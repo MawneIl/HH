{
 "cells": [
  {
   "cell_type": "code",
   "execution_count": null,
   "metadata": {},
   "outputs": [],
   "source": [
    "import requests      # Для запросов по API\n",
    "import json          # Для обработки полученных результатов\n",
    "import time          # Для задержки между запросами\n",
    "import os            # Для работы с файлами\n",
    "import pandas as pd  # Для формирования датафрейма с результатами\n"
   ]
  },
  {
   "cell_type": "code",
   "execution_count": 181,
   "metadata": {},
   "outputs": [],
   "source": [
    "#pd.set_option('display.max_columns', None)"
   ]
  },
  {
   "cell_type": "code",
   "execution_count": 59,
   "metadata": {},
   "outputs": [],
   "source": [
    "# получение словаря с ID стран и городов\n",
    "def getAreas(area_ID):\n",
    "    req = requests.get('https://api.hh.ru/areas', params={'area': area_ID})    \n",
    "    data = req.content.decode()\n",
    "    req.close()\n",
    "    jsObj = json.loads(data)\n",
    "    areas = []\n",
    "    for k in jsObj:\n",
    "        for i in range(len(k['areas'])):\n",
    "            if len(k['areas'][i]['areas']) != 0:                      # Если у зоны есть внутренние зоны\n",
    "                for j in range(len(k['areas'][i]['areas'])):\n",
    "                    areas.append([k['id'], \n",
    "                                  k['name'], \n",
    "                                  k['areas'][i]['areas'][j]['id'],\n",
    "                                  k['areas'][i]['areas'][j]['name']])\n",
    "            else:                                                                # Если у зоны нет внутренних зон\n",
    "                areas.append([k['id'], \n",
    "                              k['name'], \n",
    "                              k['areas'][i]['id'], \n",
    "                              k['areas'][i]['name']])\n",
    "    return areas"
   ]
  },
  {
   "cell_type": "code",
   "execution_count": null,
   "metadata": {},
   "outputs": [],
   "source": [
    "# получение ID нужного города\n",
    "def GetCityID(city, areas):\n",
    "    index = None\n",
    "\n",
    "    for idx, item in enumerate(areas):\n",
    "        found = True\n",
    "        try:\n",
    "            item.index(city)\n",
    "        except ValueError:\n",
    "            found = False\n",
    "\n",
    "        if found != False:\n",
    "            index = idx\n",
    "\n",
    "    city_id = areas[index][2]\n",
    "\n",
    "    return city_id"
   ]
  },
  {
   "cell_type": "code",
   "execution_count": 185,
   "metadata": {},
   "outputs": [],
   "source": [
    "def query(tag, params=None):\n",
    "    req = requests.get(f'https://api.hh.ru/{tag}', params=params)\n",
    "    data = req.content.decode()\n",
    "    req.close()\n",
    "    return json.loads(data)"
   ]
  },
  {
   "cell_type": "code",
   "execution_count": 63,
   "metadata": {},
   "outputs": [
    {
     "data": {
      "text/plain": [
       "'88'"
      ]
     },
     "execution_count": 63,
     "metadata": {},
     "output_type": "execute_result"
    }
   ],
   "source": [
    "#Variables\n",
    "area_ID = 113\n",
    "areas = getAreas(area_ID)\n",
    "city_id = GetCityID('Казань', areas)\n",
    "city_id"
   ]
  },
  {
   "cell_type": "code",
   "execution_count": 187,
   "metadata": {},
   "outputs": [],
   "source": [
    "# Получение словаря переменных\n",
    "vars_dict = query('dictionaries')"
   ]
  },
  {
   "cell_type": "code",
   "execution_count": 188,
   "metadata": {},
   "outputs": [
    {
     "data": {
      "text/plain": [
       "[{'id': 'noExperience', 'name': 'Нет опыта'},\n",
       " {'id': 'between1And3', 'name': 'От 1 года до 3 лет'},\n",
       " {'id': 'between3And6', 'name': 'От 3 до 6 лет'},\n",
       " {'id': 'moreThan6', 'name': 'Более 6 лет'}]"
      ]
     },
     "execution_count": 188,
     "metadata": {},
     "output_type": "execute_result"
    }
   ],
   "source": [
    "vars_dict['experience']"
   ]
  },
  {
   "cell_type": "code",
   "execution_count": 202,
   "metadata": {},
   "outputs": [],
   "source": [
    "# Получение вакансий\n",
    "params={\n",
    "        #'text': \"DataScientist junior\",\n",
    "        'name': 'description',\n",
    "        'experience': ['noExperience', 'between1And3'],\n",
    "        'professional_role': '165',\n",
    "        'type': 'open',\n",
    "        'employment': 'full'\n",
    "        }\n",
    "vacancies = query('vacancies', params)"
   ]
  },
  {
   "cell_type": "code",
   "execution_count": 203,
   "metadata": {},
   "outputs": [],
   "source": [
    "df = pd.DataFrame(vacancies['items'])"
   ]
  },
  {
   "cell_type": "code",
   "execution_count": null,
   "metadata": {},
   "outputs": [],
   "source": [
    "#df[['id', 'published_at', 'employer', 'name', 'professional_roles', 'area', 'salary', 'alternate_url', 'snippet', 'experience', 'employment']]"
   ]
  },
  {
   "cell_type": "code",
   "execution_count": null,
   "metadata": {},
   "outputs": [],
   "source": [
    "vacanciesResult['employer'] = df.employer.apply(lambda x: x['name'])\n",
    "vacanciesResult['professional_roles'] = df.professional_roles.apply(lambda x: x[0]['name'])\n",
    "vacanciesResult['area'] = df.area.apply(lambda x: x['name'])\n",
    "vacanciesResult['snippet'] = df.snippet.apply(lambda x: x['requirement'])\n",
    "vacanciesResult['experience'] = df.experience.apply(lambda x: x['name'])\n",
    "vacanciesResult['employment'] = df.employment.apply(lambda x: x['name'])"
   ]
  },
  {
   "cell_type": "code",
   "execution_count": null,
   "metadata": {},
   "outputs": [],
   "source": [
    "vacanciesResult['key_skills'] = vacanciesResult.id.apply(lambda x: query(f'vacancies/{x}')['key_skills'])"
   ]
  },
  {
   "cell_type": "code",
   "execution_count": null,
   "metadata": {},
   "outputs": [],
   "source": [
    "vacanciesResult['key_skills'] = vacanciesResult.key_skills.apply(lambda x: [item['name'] for item in x])"
   ]
  },
  {
   "cell_type": "code",
   "execution_count": 303,
   "metadata": {},
   "outputs": [
    {
     "data": {
      "text/html": [
       "<div>\n",
       "<style scoped>\n",
       "    .dataframe tbody tr th:only-of-type {\n",
       "        vertical-align: middle;\n",
       "    }\n",
       "\n",
       "    .dataframe tbody tr th {\n",
       "        vertical-align: top;\n",
       "    }\n",
       "\n",
       "    .dataframe thead th {\n",
       "        text-align: right;\n",
       "    }\n",
       "</style>\n",
       "<table border=\"1\" class=\"dataframe\">\n",
       "  <thead>\n",
       "    <tr style=\"text-align: right;\">\n",
       "      <th></th>\n",
       "      <th>id</th>\n",
       "      <th>published_at</th>\n",
       "      <th>employer</th>\n",
       "      <th>name</th>\n",
       "      <th>professional_roles</th>\n",
       "      <th>area</th>\n",
       "      <th>salary</th>\n",
       "      <th>alternate_url</th>\n",
       "      <th>snippet</th>\n",
       "      <th>experience</th>\n",
       "      <th>employment</th>\n",
       "      <th>key_skills</th>\n",
       "    </tr>\n",
       "  </thead>\n",
       "  <tbody>\n",
       "    <tr>\n",
       "      <th>0</th>\n",
       "      <td>102074287</td>\n",
       "      <td>2024-06-17T10:24:52+0300</td>\n",
       "      <td>Jobski</td>\n",
       "      <td>Reinforcement Learning Engineer</td>\n",
       "      <td>Дата-сайентист</td>\n",
       "      <td>Москва</td>\n",
       "      <td>{'from': 300000, 'to': 500000, 'currency': 'RU...</td>\n",
       "      <td>https://hh.ru/vacancy/102074287</td>\n",
       "      <td>Понимание принципов построения алгоритмов Alph...</td>\n",
       "      <td>Нет опыта</td>\n",
       "      <td>Полная занятость</td>\n",
       "      <td>[RL, TensorFlow, PyTorch, Python, Java, C++, а...</td>\n",
       "    </tr>\n",
       "    <tr>\n",
       "      <th>1</th>\n",
       "      <td>103649738</td>\n",
       "      <td>2024-07-10T13:21:20+0300</td>\n",
       "      <td>МТС</td>\n",
       "      <td>Стажер Data Scientist в команду [Центр маркети...</td>\n",
       "      <td>Дата-сайентист</td>\n",
       "      <td>Москва</td>\n",
       "      <td>None</td>\n",
       "      <td>https://hh.ru/vacancy/103649738</td>\n",
       "      <td>Владение Python. Знание математической статист...</td>\n",
       "      <td>Нет опыта</td>\n",
       "      <td>Полная занятость</td>\n",
       "      <td>[]</td>\n",
       "    </tr>\n",
       "    <tr>\n",
       "      <th>2</th>\n",
       "      <td>103603927</td>\n",
       "      <td>2024-07-09T15:57:21+0300</td>\n",
       "      <td>МООМАЙНД</td>\n",
       "      <td>Junior ML Engineer (Computer Vision)</td>\n",
       "      <td>Дата-сайентист</td>\n",
       "      <td>Москва</td>\n",
       "      <td>{'from': 60000, 'to': 100000, 'currency': 'RUR...</td>\n",
       "      <td>https://hh.ru/vacancy/103603927</td>\n",
       "      <td>Базовые знания в области машинного обучения и ...</td>\n",
       "      <td>От 1 года до 3 лет</td>\n",
       "      <td>Полная занятость</td>\n",
       "      <td>[Python, PyTorch]</td>\n",
       "    </tr>\n",
       "    <tr>\n",
       "      <th>3</th>\n",
       "      <td>101867625</td>\n",
       "      <td>2024-06-13T15:27:28+0300</td>\n",
       "      <td>ICNX</td>\n",
       "      <td>Data scientist</td>\n",
       "      <td>Дата-сайентист</td>\n",
       "      <td>Москва</td>\n",
       "      <td>None</td>\n",
       "      <td>https://hh.ru/vacancy/101867625</td>\n",
       "      <td>Высшее образование (в области информатики, ста...</td>\n",
       "      <td>От 1 года до 3 лет</td>\n",
       "      <td>Полная занятость</td>\n",
       "      <td>[Python, SQL, Big Data, Machine Learning, Post...</td>\n",
       "    </tr>\n",
       "    <tr>\n",
       "      <th>4</th>\n",
       "      <td>103537325</td>\n",
       "      <td>2024-07-08T20:32:02+0300</td>\n",
       "      <td>Аналитический центр при Правительстве Российск...</td>\n",
       "      <td>Junior data scientist</td>\n",
       "      <td>Дата-сайентист</td>\n",
       "      <td>Москва</td>\n",
       "      <td>None</td>\n",
       "      <td>https://hh.ru/vacancy/103537325</td>\n",
       "      <td>Высшее/незаконченное высшее образование в обла...</td>\n",
       "      <td>От 1 года до 3 лет</td>\n",
       "      <td>Полная занятость</td>\n",
       "      <td>[Python, Статистический анализ, SQL, Математич...</td>\n",
       "    </tr>\n",
       "  </tbody>\n",
       "</table>\n",
       "</div>"
      ],
      "text/plain": [
       "          id              published_at  \\\n",
       "0  102074287  2024-06-17T10:24:52+0300   \n",
       "1  103649738  2024-07-10T13:21:20+0300   \n",
       "2  103603927  2024-07-09T15:57:21+0300   \n",
       "3  101867625  2024-06-13T15:27:28+0300   \n",
       "4  103537325  2024-07-08T20:32:02+0300   \n",
       "\n",
       "                                            employer  \\\n",
       "0                                             Jobski   \n",
       "1                                                МТС   \n",
       "2                                           МООМАЙНД   \n",
       "3                                               ICNX   \n",
       "4  Аналитический центр при Правительстве Российск...   \n",
       "\n",
       "                                                name professional_roles  \\\n",
       "0                    Reinforcement Learning Engineer     Дата-сайентист   \n",
       "1  Стажер Data Scientist в команду [Центр маркети...     Дата-сайентист   \n",
       "2               Junior ML Engineer (Computer Vision)     Дата-сайентист   \n",
       "3                                     Data scientist     Дата-сайентист   \n",
       "4                              Junior data scientist     Дата-сайентист   \n",
       "\n",
       "     area                                             salary  \\\n",
       "0  Москва  {'from': 300000, 'to': 500000, 'currency': 'RU...   \n",
       "1  Москва                                               None   \n",
       "2  Москва  {'from': 60000, 'to': 100000, 'currency': 'RUR...   \n",
       "3  Москва                                               None   \n",
       "4  Москва                                               None   \n",
       "\n",
       "                     alternate_url  \\\n",
       "0  https://hh.ru/vacancy/102074287   \n",
       "1  https://hh.ru/vacancy/103649738   \n",
       "2  https://hh.ru/vacancy/103603927   \n",
       "3  https://hh.ru/vacancy/101867625   \n",
       "4  https://hh.ru/vacancy/103537325   \n",
       "\n",
       "                                             snippet          experience  \\\n",
       "0  Понимание принципов построения алгоритмов Alph...           Нет опыта   \n",
       "1  Владение Python. Знание математической статист...           Нет опыта   \n",
       "2  Базовые знания в области машинного обучения и ...  От 1 года до 3 лет   \n",
       "3  Высшее образование (в области информатики, ста...  От 1 года до 3 лет   \n",
       "4  Высшее/незаконченное высшее образование в обла...  От 1 года до 3 лет   \n",
       "\n",
       "         employment                                         key_skills  \n",
       "0  Полная занятость  [RL, TensorFlow, PyTorch, Python, Java, C++, а...  \n",
       "1  Полная занятость                                                 []  \n",
       "2  Полная занятость                                  [Python, PyTorch]  \n",
       "3  Полная занятость  [Python, SQL, Big Data, Machine Learning, Post...  \n",
       "4  Полная занятость  [Python, Статистический анализ, SQL, Математич...  "
      ]
     },
     "execution_count": 303,
     "metadata": {},
     "output_type": "execute_result"
    }
   ],
   "source": [
    "vacanciesResult.head()"
   ]
  },
  {
   "cell_type": "code",
   "execution_count": 304,
   "metadata": {},
   "outputs": [],
   "source": [
    "vacanciesResult.to_excel('vacancies.xlsx', index=False)"
   ]
  },
  {
   "cell_type": "code",
   "execution_count": null,
   "metadata": {},
   "outputs": [],
   "source": []
  }
 ],
 "metadata": {
  "kernelspec": {
   "display_name": ".venv",
   "language": "python",
   "name": "python3"
  },
  "language_info": {
   "codemirror_mode": {
    "name": "ipython",
    "version": 3
   },
   "file_extension": ".py",
   "mimetype": "text/x-python",
   "name": "python",
   "nbconvert_exporter": "python",
   "pygments_lexer": "ipython3",
   "version": "3.9.13"
  }
 },
 "nbformat": 4,
 "nbformat_minor": 2
}
